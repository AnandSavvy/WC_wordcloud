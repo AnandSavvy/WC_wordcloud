{
 "cells": [
  {
   "cell_type": "code",
   "execution_count": 1,
   "id": "91726274",
   "metadata": {},
   "outputs": [],
   "source": [
    "with open('Book1.csv', 'w'):\n",
    "    pass"
   ]
  },
  {
   "cell_type": "code",
   "execution_count": null,
   "id": "3780417d",
   "metadata": {},
   "outputs": [],
   "source": [
    "with open('my_csv.csv', 'w') as f:\n",
    "    for EachMonth in MonthsInAnalysis:\n",
    "        TheCurrentMonth = pd.read_csv('MonthlyDataSplit/Day/Day%s.csv' % EachMonth)\n",
    "        MeanDailyTemperaturesForCurrentMonth = TheCurrentMonth.groupby('Day')['AirTemperature'].mean().reset_index(name='MeanDailyAirTemperature')\n",
    "        df.to_csv(f, header=False) "
   ]
  }
 ],
 "metadata": {
  "kernelspec": {
   "display_name": "Python 3 (ipykernel)",
   "language": "python",
   "name": "python3"
  },
  "language_info": {
   "codemirror_mode": {
    "name": "ipython",
    "version": 3
   },
   "file_extension": ".py",
   "mimetype": "text/x-python",
   "name": "python",
   "nbconvert_exporter": "python",
   "pygments_lexer": "ipython3",
   "version": "3.10.1"
  }
 },
 "nbformat": 4,
 "nbformat_minor": 5
}
